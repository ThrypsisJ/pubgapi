{
 "cells": [
  {
   "cell_type": "code",
   "execution_count": 1,
   "metadata": {},
   "outputs": [
    {
     "name": "stderr",
     "output_type": "stream",
     "text": [
      "100%|██████████| 129/129 [00:00<00:00, 831129.36it/s]\n"
     ]
    },
    {
     "data": {
      "text/html": [
       "<div>\n",
       "<style scoped>\n",
       "    .dataframe tbody tr th:only-of-type {\n",
       "        vertical-align: middle;\n",
       "    }\n",
       "\n",
       "    .dataframe tbody tr th {\n",
       "        vertical-align: top;\n",
       "    }\n",
       "\n",
       "    .dataframe thead th {\n",
       "        text-align: right;\n",
       "    }\n",
       "</style>\n",
       "<table border=\"1\" class=\"dataframe\">\n",
       "  <thead>\n",
       "    <tr style=\"text-align: right;\">\n",
       "      <th></th>\n",
       "      <th>accountId</th>\n",
       "      <th>playerName</th>\n",
       "    </tr>\n",
       "  </thead>\n",
       "  <tbody>\n",
       "    <tr>\n",
       "      <th>0</th>\n",
       "      <td>account.10bcaba54cff430aaa41955e31b71c84</td>\n",
       "      <td>Lap1-n1</td>\n",
       "    </tr>\n",
       "    <tr>\n",
       "      <th>1</th>\n",
       "      <td>account.d76a7b9800f54e1e9e258a60f957b7fe</td>\n",
       "      <td>Yosh1noya</td>\n",
       "    </tr>\n",
       "    <tr>\n",
       "      <th>2</th>\n",
       "      <td>account.ffa8ba6f3f014d578762ec7211f071cb</td>\n",
       "      <td>Maybe_ZZZ-_-</td>\n",
       "    </tr>\n",
       "    <tr>\n",
       "      <th>3</th>\n",
       "      <td>account.18b4c3efbb504ded94e556839db4d765</td>\n",
       "      <td>ZR1_GhyaxX</td>\n",
       "    </tr>\n",
       "    <tr>\n",
       "      <th>4</th>\n",
       "      <td>account.583b44975c92464b9f3e87a5841bce0f</td>\n",
       "      <td>INGKING77</td>\n",
       "    </tr>\n",
       "    <tr>\n",
       "      <th>...</th>\n",
       "      <td>...</td>\n",
       "      <td>...</td>\n",
       "    </tr>\n",
       "    <tr>\n",
       "      <th>94</th>\n",
       "      <td>account.350bc6e46d014711bef5863d134e200a</td>\n",
       "      <td>reaidy</td>\n",
       "    </tr>\n",
       "    <tr>\n",
       "      <th>95</th>\n",
       "      <td>account.c538011341554d7cb8c5b1051a2e40fa</td>\n",
       "      <td>Split-life</td>\n",
       "    </tr>\n",
       "    <tr>\n",
       "      <th>96</th>\n",
       "      <td>account.ce5d58800f254c378c98520e101d1ab7</td>\n",
       "      <td>Sveta_Kartizol</td>\n",
       "    </tr>\n",
       "    <tr>\n",
       "      <th>97</th>\n",
       "      <td>account.3ca18583a66d4df8a2178ccc4d321cf2</td>\n",
       "      <td>M4CS_Boy</td>\n",
       "    </tr>\n",
       "    <tr>\n",
       "      <th>98</th>\n",
       "      <td>account.58a7289b732946abbf7af09d165ef96e</td>\n",
       "      <td>panaceaaaaaaaaaa</td>\n",
       "    </tr>\n",
       "  </tbody>\n",
       "</table>\n",
       "<p>99 rows × 2 columns</p>\n",
       "</div>"
      ],
      "text/plain": [
       "                                   accountId        playerName\n",
       "0   account.10bcaba54cff430aaa41955e31b71c84           Lap1-n1\n",
       "1   account.d76a7b9800f54e1e9e258a60f957b7fe         Yosh1noya\n",
       "2   account.ffa8ba6f3f014d578762ec7211f071cb      Maybe_ZZZ-_-\n",
       "3   account.18b4c3efbb504ded94e556839db4d765        ZR1_GhyaxX\n",
       "4   account.583b44975c92464b9f3e87a5841bce0f         INGKING77\n",
       "..                                       ...               ...\n",
       "94  account.350bc6e46d014711bef5863d134e200a            reaidy\n",
       "95  account.c538011341554d7cb8c5b1051a2e40fa        Split-life\n",
       "96  account.ce5d58800f254c378c98520e101d1ab7    Sveta_Kartizol\n",
       "97  account.3ca18583a66d4df8a2178ccc4d321cf2          M4CS_Boy\n",
       "98  account.58a7289b732946abbf7af09d165ef96e  panaceaaaaaaaaaa\n",
       "\n",
       "[99 rows x 2 columns]"
      ]
     },
     "metadata": {},
     "output_type": "display_data"
    }
   ],
   "source": [
    "import json\n",
    "import pandas as pd\n",
    "from tqdm import tqdm\n",
    "\n",
    "data = json.load(open('./samples/match_sample.json', 'r', encoding='utf-8'))\n",
    "player_list:list = [\n",
    "                {'accountId': item['attributes']['stats']['playerId'],\n",
    "                 'playerName': item['attributes']['stats']['name']}\n",
    "                for item in tqdm(data['included'])\n",
    "                if item['type'] == 'participant'\n",
    "            ]\n",
    "player_list_df = pd.DataFrame(player_list)\n",
    "display(player_list_df)"
   ]
  },
  {
   "cell_type": "code",
   "execution_count": null,
   "metadata": {},
   "outputs": [],
   "source": []
  }
 ],
 "metadata": {
  "kernelspec": {
   "display_name": "api",
   "language": "python",
   "name": "python3"
  },
  "language_info": {
   "codemirror_mode": {
    "name": "ipython",
    "version": 3
   },
   "file_extension": ".py",
   "mimetype": "text/x-python",
   "name": "python",
   "nbconvert_exporter": "python",
   "pygments_lexer": "ipython3",
   "version": "3.10.14"
  }
 },
 "nbformat": 4,
 "nbformat_minor": 2
}
